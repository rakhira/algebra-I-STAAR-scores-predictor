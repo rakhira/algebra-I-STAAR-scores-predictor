{
 "cells": [
  {
   "cell_type": "code",
   "execution_count": 1,
   "metadata": {},
   "outputs": [],
   "source": [
    "import pandas as pd\n",
    "import numpy as np\n",
    "import requests\n",
    "import pprint\n",
    "import matplotlib.pyplot as plt\n",
    "plt.style.use('fivethirtyeight')\n",
    "from bs4 import BeautifulSoup\n",
    "import json\n",
    "import time\n",
    "import copy\n",
    "from pymongo import MongoClient\n",
    "import time\n",
    "client = MongoClient('localhost', 27017)"
   ]
  },
  {
   "cell_type": "code",
   "execution_count": 22,
   "metadata": {},
   "outputs": [
    {
     "name": "stdout",
     "output_type": "stream",
     "text": [
      "['\\xa0End of Course Algebra I\\n\\xa0\\xa0At Approaches Grade Level or Above                            ', '     2019', '      85%', '      77%', '      53%', '*', '      52%', '*', '-', '-', '-', '*', '*', '*', '      54%', '      50%', '      55%', '*']\n"
     ]
    },
    {
     "data": {
      "text/plain": [
       "18"
      ]
     },
     "execution_count": 22,
     "metadata": {},
     "output_type": "execute_result"
    }
   ],
   "source": [
    "# one High School STAAR page\n",
    "\n",
    "# url = 'https://rptsvr1.tea.texas.gov/cgi/sas/broker?_service=marykay&_debug=0&single=N&batch=N&app=PUBLIC&ptype=H&_program=perfrept.perfmast.sas&level=campus&search=campnum&namenum=001902001&prgopt=2019/tapr/performance.sas'\n",
    "url = 'https://rptsvr1.tea.texas.gov/cgi/sas/broker?_service=marykay&_debug=0&single=N&batch=N&app=PUBLIC&ptype=H&_program=perfrept.perfmast.sas&level=campus&search=campnum&namenum=020905006&prgopt=2019/tapr/performance.sas'\n",
    "r = requests.get(url)\n",
    "html = r.text\n",
    "\n",
    "soup = BeautifulSoup(html, 'html.parser')\n",
    "\n",
    "staar_HS_table = soup.find(\"table\", attrs={\"class\": \"table\"})\n",
    "staar_HS_table_data = staar_HS_table.tbody.find_all(\"tr\")\n",
    "\n",
    "data_2019_HS = []\n",
    "for td in staar_HS_table_data[13].find_all(\"td\"):\n",
    "    data_2019_HS.append(td.text)\n",
    "\n",
    "print(data_2019_HS)\n",
    "len(data_2019_HS)\n"
   ]
  },
  {
   "cell_type": "code",
   "execution_count": 25,
   "metadata": {},
   "outputs": [
    {
     "name": "stdout",
     "output_type": "stream",
     "text": [
      "['\\n\\xa0End of Course English I\\n\\xa0\\xa0\\xa0At Approaches Grade Level or Above                ', '     2019', '      68%', '      80%', '      96%', '*', '      94%', '*', '-', '*', '-', '-', '-', '-', '*', '      96%', '      94%', '      86%']\n"
     ]
    },
    {
     "data": {
      "text/plain": [
       "18"
      ]
     },
     "execution_count": 25,
     "metadata": {},
     "output_type": "execute_result"
    }
   ],
   "source": [
    "# one Middle STAAR page\n",
    "\n",
    "url = 'https://rptsvr1.tea.texas.gov/cgi/sas/broker?_service=marykay&year4=2019&year2=19&_debug=0&single=N&batch=N&app=PUBLIC&title=2019+Texas+Academic+Performance+Reports&_program=perfrept.perfmast.sas&ptype=H&paper=N&level=campus&search=campname&namenum=kealing&campus=227901044&prgopt=2019%2Ftapr%2Fperformance.sas'\n",
    "url = 'https://rptsvr1.tea.texas.gov/cgi/sas/broker?_service=marykay&_debug=0&single=N&batch=N&app=PUBLIC&ptype=H&_program=perfrept.perfmast.sas&level=campus&search=campnum&namenum=057848011&prgopt=2019/tapr/performance.sas'\n",
    "r = requests.get(url)\n",
    "html = r.text\n",
    "\n",
    "soup = BeautifulSoup(html, 'html.parser')\n",
    "\n",
    "staar_MS_table = soup.find(\"table\", attrs={\"class\": \"table\"})\n",
    "staar_MS_table_data = staar_MS_table.tbody.find_all(\"tr\")\n",
    "\n",
    "data_2019_MS = []\n",
    "for td in staar_MS_table_data[55].find_all(\"td\"):\n",
    "    data_2019_MS.append(td.text)\n",
    "\n",
    "print(data_2019_MS)\n",
    "len(data_2019_MS)\n"
   ]
  },
  {
   "cell_type": "code",
   "execution_count": 21,
   "metadata": {},
   "outputs": [
    {
     "name": "stdout",
     "output_type": "stream",
     "text": [
      "['\\xa0End of Course Algebra I\\n\\xa0\\xa0At Approaches Grade Level or Above                            ', '     2019', '      85%', '      90%', '     100%', '     100%', '     100%', '     100%', '-', '     100%', '-', '     100%', '     100%', '     100%', '     100%', '     100%', '     100%', '     100%']\n"
     ]
    },
    {
     "data": {
      "text/plain": [
       "18"
      ]
     },
     "execution_count": 21,
     "metadata": {},
     "output_type": "execute_result"
    }
   ],
   "source": [
    "# one Junior High STAAR page\n",
    "\n",
    "url = 'https://rptsvr1.tea.texas.gov/cgi/sas/broker?_service=marykay&year4=2019&year2=19&_debug=0&single=N&batch=N&app=PUBLIC&title=2019+Texas+Academic+Performance+Reports&_program=perfrept.perfmast.sas&ptype=H&paper=N&level=campus&search=campname&namenum=kealing&campus=227901044&prgopt=2019%2Ftapr%2Fperformance.sas'\n",
    "r = requests.get(url)\n",
    "html = r.text\n",
    "\n",
    "soup = BeautifulSoup(html, 'html.parser')\n",
    "\n",
    "staar_MS_table = soup.find(\"table\", attrs={\"class\": \"table\"})\n",
    "staar_MS_table_data = staar_MS_table.tbody.find_all(\"tr\")\n",
    "\n",
    "data_2019_MS = []\n",
    "for td in staar_MS_table_data[55].find_all(\"td\"):\n",
    "    data_2019_MS.append(td.text)\n",
    "\n",
    "print(data_2019_MS)\n",
    "len(data_2019_MS)\n"
   ]
  },
  {
   "cell_type": "code",
   "execution_count": null,
   "metadata": {},
   "outputs": [],
   "source": []
  }
 ],
 "metadata": {
  "kernelspec": {
   "display_name": "Python 3",
   "language": "python",
   "name": "python3"
  },
  "language_info": {
   "codemirror_mode": {
    "name": "ipython",
    "version": 3
   },
   "file_extension": ".py",
   "mimetype": "text/x-python",
   "name": "python",
   "nbconvert_exporter": "python",
   "pygments_lexer": "ipython3",
   "version": "3.7.7"
  }
 },
 "nbformat": 4,
 "nbformat_minor": 4
}
